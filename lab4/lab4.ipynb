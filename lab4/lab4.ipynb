{
 "cells": [
  {
   "cell_type": "code",
   "id": "initial_id",
   "metadata": {
    "collapsed": true,
    "ExecuteTime": {
     "end_time": "2025-04-20T16:17:34.921297Z",
     "start_time": "2025-04-20T16:17:33.010981Z"
    }
   },
   "source": "!pip install numpy matplotlib scipy sympy",
   "outputs": [
    {
     "name": "stdout",
     "output_type": "stream",
     "text": [
      "Requirement already satisfied: numpy in c:\\users\\vadim\\pycharmprojects\\labssystemtheory\\.venv\\lib\\site-packages (2.2.4)\n",
      "Requirement already satisfied: matplotlib in c:\\users\\vadim\\pycharmprojects\\labssystemtheory\\.venv\\lib\\site-packages (3.10.1)\n",
      "Requirement already satisfied: scipy in c:\\users\\vadim\\pycharmprojects\\labssystemtheory\\.venv\\lib\\site-packages (1.15.2)\n",
      "Requirement already satisfied: sympy in c:\\users\\vadim\\pycharmprojects\\labssystemtheory\\.venv\\lib\\site-packages (1.13.3)\n",
      "Requirement already satisfied: contourpy>=1.0.1 in c:\\users\\vadim\\pycharmprojects\\labssystemtheory\\.venv\\lib\\site-packages (from matplotlib) (1.3.1)\n",
      "Requirement already satisfied: cycler>=0.10 in c:\\users\\vadim\\pycharmprojects\\labssystemtheory\\.venv\\lib\\site-packages (from matplotlib) (0.12.1)\n",
      "Requirement already satisfied: fonttools>=4.22.0 in c:\\users\\vadim\\pycharmprojects\\labssystemtheory\\.venv\\lib\\site-packages (from matplotlib) (4.57.0)\n",
      "Requirement already satisfied: kiwisolver>=1.3.1 in c:\\users\\vadim\\pycharmprojects\\labssystemtheory\\.venv\\lib\\site-packages (from matplotlib) (1.4.8)\n",
      "Requirement already satisfied: packaging>=20.0 in c:\\users\\vadim\\pycharmprojects\\labssystemtheory\\.venv\\lib\\site-packages (from matplotlib) (24.2)\n",
      "Requirement already satisfied: pillow>=8 in c:\\users\\vadim\\pycharmprojects\\labssystemtheory\\.venv\\lib\\site-packages (from matplotlib) (11.1.0)\n",
      "Requirement already satisfied: pyparsing>=2.3.1 in c:\\users\\vadim\\pycharmprojects\\labssystemtheory\\.venv\\lib\\site-packages (from matplotlib) (3.2.3)\n",
      "Requirement already satisfied: python-dateutil>=2.7 in c:\\users\\vadim\\pycharmprojects\\labssystemtheory\\.venv\\lib\\site-packages (from matplotlib) (2.9.0.post0)\n",
      "Requirement already satisfied: mpmath<1.4,>=1.1.0 in c:\\users\\vadim\\pycharmprojects\\labssystemtheory\\.venv\\lib\\site-packages (from sympy) (1.3.0)\n",
      "Requirement already satisfied: six>=1.5 in c:\\users\\vadim\\pycharmprojects\\labssystemtheory\\.venv\\lib\\site-packages (from python-dateutil>=2.7->matplotlib) (1.17.0)\n"
     ]
    },
    {
     "name": "stderr",
     "output_type": "stream",
     "text": [
      "\n",
      "[notice] A new release of pip is available: 23.2.1 -> 25.0.1\n",
      "[notice] To update, run: python.exe -m pip install --upgrade pip\n"
     ]
    }
   ],
   "execution_count": 10
  },
  {
   "metadata": {},
   "cell_type": "markdown",
   "source": [
    "Перевод уравнения \n",
    "$$\n",
    "\\ddot{y}(t) + 5\\dot{y}(t)+2y(t) = 5\\dot{u}(t) + u(t).\n",
    "$$\n",
    "в систему ДУ 1-го порядка с дополнительными обозначениями:\n",
    "$$\n",
    "x_1(t) = y(t),\\quad x_2(t) = \\dot{y}(t) \\Longrightarrow \\dot{x_2}(t)=\\ddot{y}(t).\n",
    "$$ "
   ],
   "id": "7c65c1ddb43a8c4e"
  },
  {
   "metadata": {
    "ExecuteTime": {
     "end_time": "2025-04-20T16:17:34.952448Z",
     "start_time": "2025-04-20T16:17:34.921297Z"
    }
   },
   "cell_type": "code",
   "source": [
    "import sympy as sp\n",
    "\n",
    "# Define symbols and functions\n",
    "t = sp.symbols('t')\n",
    "y = sp.Function('y')\n",
    "u = sp.Function('u')\n",
    "\n",
    "# Given second-order ODE\n",
    "ode = sp.Eq(y(t).diff(t, 2) + 5*y(t).diff(t) + 2*y(t), 5*u(t).diff(t) + u(t))\n",
    "\n",
    "# Define state functions\n",
    "x1 = sp.Function('x1')(t)\n",
    "x2 = sp.Function('x2')(t)\n",
    "\n",
    "# Constraints: x1 = y, x2 = dy/dt\n",
    "eq1 = sp.Eq(x1 - y(t), 0)\n",
    "eq2 = sp.Eq(x2 - y(t).diff(t), 0)\n",
    "\n",
    "# Differentiate constraints\n",
    "eq1d = sp.Eq(sp.diff(x1, t) - sp.diff(y(t), t), 0)\n",
    "eq2d = sp.Eq(sp.diff(x2, t) - sp.diff(y(t), t, 2), 0)\n",
    "\n",
    "# Solve for y'' from the original ODE\n",
    "y2_expr = sp.solve(ode, y(t).diff(t, 2))[0]\n",
    "\n",
    "# Build the state equations automatically\n",
    "eq1_ss = eq1d.subs({sp.diff(y(t), t): x2})\n",
    "eq2_ss = sp.Eq(sp.diff(x2, t), y2_expr.subs({y(t): x1, sp.diff(y(t), t): x2}))\n",
    "\n",
    "# Print the resulting system\n",
    "print(\"State equations:\")\n",
    "print(eq1_ss)\n",
    "print(eq2_ss)\n",
    "print(\"Output equation: y = x1\")\n"
   ],
   "id": "6d70fa68e557f078",
   "outputs": [
    {
     "name": "stdout",
     "output_type": "stream",
     "text": [
      "State equations:\n",
      "Eq(-x2(t) + Derivative(x1(t), t), 0)\n",
      "Eq(Derivative(x2(t), t), u(t) - 2*x1(t) - 5*x2(t) + 5*Derivative(u(t), t))\n",
      "Output equation: y = x1\n"
     ]
    }
   ],
   "execution_count": 11
  },
  {
   "metadata": {},
   "cell_type": "markdown",
   "source": [
    "Получившаяся система должна соответствовать этой:\n",
    "$$\n",
    "\\left\\{\\begin{matrix}\n",
    "    \\dot{x_1} = x_2, \\\\\n",
    "    \\dot{x_2} = - 5 x_2 - 2 x_1 + 5\\dot{u} + u,\\\\\n",
    "    y = x_1.\n",
    "\\end{matrix}\\right.\n",
    "$$"
   ],
   "id": "c47ce5f0eed06716"
  },
  {
   "metadata": {},
   "cell_type": "markdown",
   "source": [
    "Введём дополнительные обозначения: \n",
    "$$\n",
    "x_3(t) = u(t);\\quad \\dot{x_3}(t) = v(t).\n",
    "$$\n",
    "Проведём конвертацию так, чтобы в получившейся системе уравнений не содержалась производная $\\dot{u}$."
   ],
   "id": "4e073b4f8396dcfc"
  },
  {
   "metadata": {
    "ExecuteTime": {
     "end_time": "2025-04-20T16:17:34.983729Z",
     "start_time": "2025-04-20T16:17:34.952448Z"
    }
   },
   "cell_type": "code",
   "source": [
    "import sympy as sp\n",
    "\n",
    "# Symbols and functions\n",
    "t = sp.symbols('t')\n",
    "y = sp.Function('y')(t)\n",
    "u = sp.Function('u')(t)\n",
    "\n",
    "# Given second-order ODE\n",
    "ode = sp.Eq(y.diff(t, 2) + 5*y.diff(t) + 2*y, 5*u.diff(t) + u)\n",
    "\n",
    "# Define state variables\n",
    "x1 = sp.Function('x1')(t)\n",
    "x2 = sp.Function('x2')(t)\n",
    "x3 = sp.Function('x3')(t)\n",
    "\n",
    "# Constraints: x1 = y, x2 = y', x3 = u\n",
    "constraints = [\n",
    "    sp.Eq(x1, y),\n",
    "    sp.Eq(x2, y.diff(t)),\n",
    "    sp.Eq(x3, u)\n",
    "]\n",
    "\n",
    "# Differentiate constraints w.r.t. t\n",
    "d_constraints = [\n",
    "    sp.Eq(sp.diff(c.lhs, t), sp.diff(c.rhs, t))\n",
    "    for c in constraints\n",
    "]\n",
    "\n",
    "# Solve ODE for y''\n",
    "y_dd = sp.solve(ode, y.diff(t, 2))[0]\n",
    "\n",
    "# Build the state equations\n",
    "eq1_ss = d_constraints[0].subs({y.diff(t): x2})\n",
    "eq2_ss = sp.Eq(\n",
    "    x2.diff(t),\n",
    "    y_dd.subs({y: x1, y.diff(t): x2})\n",
    ")\n",
    "eq3_ss = d_constraints[2]  # dot x3 = dot u\n",
    "\n",
    "# Display results\n",
    "print(\"State equations:\")\n",
    "print(eq1_ss)   # ˙x1 = x2\n",
    "print(eq2_ss)   # ˙x2 = -2*x1 - 5*x2 + u + 5*u'\n",
    "print(eq3_ss)   # ˙x3 = u'\n",
    "\n",
    "print(\"\\nOutput equation: y = x1\")\n"
   ],
   "id": "944f3714cb9b337c",
   "outputs": [
    {
     "name": "stdout",
     "output_type": "stream",
     "text": [
      "State equations:\n",
      "Eq(Derivative(x1(t), t), x2(t))\n",
      "Eq(Derivative(x2(t), t), u(t) - 2*x1(t) - 5*x2(t) + 5*Derivative(u(t), t))\n",
      "Eq(Derivative(x3(t), t), Derivative(u(t), t))\n",
      "\n",
      "Output equation: y = x1\n"
     ]
    }
   ],
   "execution_count": 12
  },
  {
   "metadata": {},
   "cell_type": "markdown",
   "source": [
    "Мы получаем примерно такой же вывод, но можно заменить $u = x_3$, $\\dot{u} = v$:\n",
    "$$\\left\\{\\begin{matrix}\n",
    "    \\dot{x_1} = x_2, \\\\\n",
    "    \\dot{x_2} = - 2 x_1 - 5 x_2 + x_3 + 5 v, \\\\\n",
    "    \\dot{x_3} = v, \\\\\n",
    "    y = x_1.\n",
    "\\end{matrix}\\right.$$"
   ],
   "id": "8f562d35646db0dc"
  },
  {
   "metadata": {},
   "cell_type": "markdown",
   "source": "",
   "id": "b8f0a6fb12bf2fd6"
  },
  {
   "metadata": {
    "ExecuteTime": {
     "end_time": "2025-04-20T16:17:35.124321Z",
     "start_time": "2025-04-20T16:17:34.983729Z"
    }
   },
   "cell_type": "code",
   "source": [
    "# Re-running after reset\n",
    "import numpy as np\n",
    "from scipy.integrate import solve_ivp\n",
    "import matplotlib.pyplot as plt\n",
    "\n",
    "# System definition with explicit parameters\n",
    "def system(t, x):\n",
    "    # Unit step input u(t)=1, thus u'(t)=0\n",
    "    u = 1\n",
    "    u_dot = 0\n",
    "    x1, x2 = x\n",
    "    dx1dt = x2\n",
    "    dx2dt = -2*x1 - 5*x2 + u + 5*u_dot\n",
    "    return [dx1dt, dx2dt]\n",
    "\n",
    "# Initial conditions\n",
    "x0 = [0, 0]\n",
    "\n",
    "# Time range\n",
    "t_span = (0, 10)\n",
    "t_eval = np.linspace(*t_span, 500)\n",
    "\n",
    "# Solve the ODE system numerically\n",
    "solution = solve_ivp(system, t_span, x0, t_eval=t_eval)\n",
    "\n",
    "# Plotting\n",
    "plt.figure(figsize=(10, 6))\n",
    "plt.plot(solution.t, solution.y[0], label='y(t) = x1(t)', linewidth=2)\n",
    "plt.plot(solution.t, solution.y[1], label=\"dy/dt = x2(t)\", linewidth=2)\n",
    "plt.xlabel('Time (s)')\n",
    "plt.ylabel('States')\n",
    "plt.title('System Response to Unit Step Input (u=1)')\n",
    "plt.grid(True)\n",
    "plt.legend()\n",
    "plt.show()\n"
   ],
   "id": "bb3f4db220f18374",
   "outputs": [
    {
     "data": {
      "text/plain": [
       "<Figure size 1000x600 with 1 Axes>"
      ],
      "image/png": "[encoded data removed]"
     },
     "metadata": {},
     "output_type": "display_data"
    }
   ],
   "execution_count": 13
  },
  {
   "metadata": {
    "ExecuteTime": {
     "end_time": "2025-04-20T16:17:35.139945Z",
     "start_time": "2025-04-20T16:17:35.124321Z"
    }
   },
   "cell_type": "code",
   "source": "",
   "id": "af15465cc296c3ea",
   "outputs": [],
   "execution_count": 13
  }
 ],
 "metadata": {
  "kernelspec": {
   "display_name": "Python 3",
   "language": "python",
   "name": "python3"
  },
  "language_info": {
   "codemirror_mode": {
    "name": "ipython",
    "version": 2
   },
   "file_extension": ".py",
   "mimetype": "text/x-python",
   "name": "python",
   "nbconvert_exporter": "python",
   "pygments_lexer": "ipython2",
   "version": "2.7.6"
  }
 },
 "nbformat": 4,
 "nbformat_minor": 5
}
