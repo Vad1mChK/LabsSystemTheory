{
 "cells": [
  {
   "cell_type": "code",
   "id": "initial_id",
   "metadata": {
    "collapsed": true,
    "ExecuteTime": {
     "end_time": "2025-06-04T17:51:46.907065Z",
     "start_time": "2025-06-04T17:51:44.125392Z"
    }
   },
   "source": "!pip install numpy pandas seaborn",
   "outputs": [
    {
     "name": "stdout",
     "output_type": "stream",
     "text": [
      "Requirement already satisfied: numpy in c:\\users\\vadim\\pycharmprojects\\labssystemtheory\\.venv\\lib\\site-packages (2.1.3)\n",
      "Requirement already satisfied: pandas in c:\\users\\vadim\\pycharmprojects\\labssystemtheory\\.venv\\lib\\site-packages (2.2.3)\n",
      "Requirement already satisfied: seaborn in c:\\users\\vadim\\pycharmprojects\\labssystemtheory\\.venv\\lib\\site-packages (0.13.2)\n",
      "Requirement already satisfied: python-dateutil>=2.8.2 in c:\\users\\vadim\\pycharmprojects\\labssystemtheory\\.venv\\lib\\site-packages (from pandas) (2.9.0.post0)\n",
      "Requirement already satisfied: pytz>=2020.1 in c:\\users\\vadim\\pycharmprojects\\labssystemtheory\\.venv\\lib\\site-packages (from pandas) (2025.2)\n",
      "Requirement already satisfied: tzdata>=2022.7 in c:\\users\\vadim\\pycharmprojects\\labssystemtheory\\.venv\\lib\\site-packages (from pandas) (2025.2)\n",
      "Requirement already satisfied: matplotlib!=3.6.1,>=3.4 in c:\\users\\vadim\\pycharmprojects\\labssystemtheory\\.venv\\lib\\site-packages (from seaborn) (3.10.1)\n",
      "Requirement already satisfied: contourpy>=1.0.1 in c:\\users\\vadim\\pycharmprojects\\labssystemtheory\\.venv\\lib\\site-packages (from matplotlib!=3.6.1,>=3.4->seaborn) (1.3.1)\n",
      "Requirement already satisfied: cycler>=0.10 in c:\\users\\vadim\\pycharmprojects\\labssystemtheory\\.venv\\lib\\site-packages (from matplotlib!=3.6.1,>=3.4->seaborn) (0.12.1)\n",
      "Requirement already satisfied: fonttools>=4.22.0 in c:\\users\\vadim\\pycharmprojects\\labssystemtheory\\.venv\\lib\\site-packages (from matplotlib!=3.6.1,>=3.4->seaborn) (4.57.0)\n",
      "Requirement already satisfied: kiwisolver>=1.3.1 in c:\\users\\vadim\\pycharmprojects\\labssystemtheory\\.venv\\lib\\site-packages (from matplotlib!=3.6.1,>=3.4->seaborn) (1.4.8)\n",
      "Requirement already satisfied: packaging>=20.0 in c:\\users\\vadim\\pycharmprojects\\labssystemtheory\\.venv\\lib\\site-packages (from matplotlib!=3.6.1,>=3.4->seaborn) (24.2)\n",
      "Requirement already satisfied: pillow>=8 in c:\\users\\vadim\\pycharmprojects\\labssystemtheory\\.venv\\lib\\site-packages (from matplotlib!=3.6.1,>=3.4->seaborn) (11.1.0)\n",
      "Requirement already satisfied: pyparsing>=2.3.1 in c:\\users\\vadim\\pycharmprojects\\labssystemtheory\\.venv\\lib\\site-packages (from matplotlib!=3.6.1,>=3.4->seaborn) (3.2.3)\n",
      "Requirement already satisfied: six>=1.5 in c:\\users\\vadim\\pycharmprojects\\labssystemtheory\\.venv\\lib\\site-packages (from python-dateutil>=2.8.2->pandas) (1.17.0)\n"
     ]
    },
    {
     "name": "stderr",
     "output_type": "stream",
     "text": [
      "\n",
      "[notice] A new release of pip is available: 23.2.1 -> 25.1.1\n",
      "[notice] To update, run: python.exe -m pip install --upgrade pip\n"
     ]
    }
   ],
   "execution_count": 105
  },
  {
   "metadata": {},
   "cell_type": "markdown",
   "source": [
    "**Задача**: Выбор VR-игры для разработки в рамках дисциплины <<Разработка приложений виртуальной реальности>> (7-й семестр).\n",
    "\n",
    "**Альтернативы**:\n",
    "   - Космический квест для обучения троичной логике\n",
    "   - Визуальная новелла - симулятор студента\n",
    "   - VR-хоррор про выживание в Backrooms\n",
    "   - Психологический хоррор про применение ИИ\n",
    "   - Виртуальная галерея объектов искусства\n",
    "\n",
    "**Критерии**:\n",
    "- Простота реализации\n",
    "- Актуальность\n",
    "- Оригинальность\n",
    "- Образовательная ценность\n",
    "- VR-потенциал"
   ],
   "id": "74f97256922ba0b3"
  },
  {
   "metadata": {
    "ExecuteTime": {
     "end_time": "2025-06-04T17:51:46.922275Z",
     "start_time": "2025-06-04T17:51:46.908988Z"
    }
   },
   "cell_type": "code",
   "source": [
    "import numpy as np\n",
    "import pandas as pd\n",
    "import matplotlib.pyplot as plt\n",
    "import seaborn as sns\n",
    "\n",
    "alternative_names = [\n",
    "    \"Space Quest\",\n",
    "    \"Student Simulator\",\n",
    "    \"Backrooms Horror\",\n",
    "    \"Psychological Horror\",\n",
    "    \"Art Gallery\"\n",
    "]\n",
    "\n",
    "criteria_names = [\n",
    "    \"Simplicity\",\n",
    "    \"Relevance\",\n",
    "    \"Originality\",\n",
    "    \"Education\",\n",
    "    \"VR Potential\"\n",
    "]"
   ],
   "id": "67c133aad16d84b9",
   "outputs": [],
   "execution_count": 106
  },
  {
   "metadata": {},
   "cell_type": "markdown",
   "source": [
    "Построение матрицы попарных сравнений:\n",
    "\n",
    "- C₁ vs C₂ (Простота vs Актуальность): Простота немного важнее** → **3**\n",
    "- C₁ vs C₃ (Простота vs Оригинальность): **Простота умеренно важнее** → **3**\n",
    "- C₁ vs C₄ (Простота vs Образовательная ценность): **Образовательная ценность немного важнее** → **1/3**\n",
    "- C₁ vs C₅ (Простота vs VR-потенциал): **VR-потенциал умеренно важнее** → **1/3**\n",
    "- C₂ vs C₃ (Актуальность vs Оригинальность): **Оригинальность немного важнее** → **1/2**\n",
    "- C₂ vs C₄ (Актуальность vs Образовательная ценность): **Образовательная ценность сильно важнее** → **1/5**\n",
    "- C₂ vs C₅ (Актуальность vs VR-потенциал): **VR немного важнее** → **1/2**\n",
    "- C₃ vs C₄ (Оригинальность vs Образовательная ценность): **Образование умеренно важнее** → **1/3**\n",
    "- C₃ vs C₅ (Оригинальность vs VR-потенциал): **VR немного важнее** → **1/2**\n",
    "- C₄ vs C₅ (Образование vs VR-потенциал): **Образование умеренно важнее** → **3**\n"
   ],
   "id": "911e375466780cc3"
  },
  {
   "metadata": {
    "ExecuteTime": {
     "end_time": "2025-06-04T17:51:46.938173Z",
     "start_time": "2025-06-04T17:51:46.924173Z"
    }
   },
   "cell_type": "code",
   "source": [
    "def build_pairwise_comparison_matrix(topright: np.ndarray) -> np.ndarray:\n",
    "    if topright.ndim != 2 or topright.shape[0] != topright.shape[1]:\n",
    "        raise ValueError(\"The provided topright matrix should be a square matrix.\")\n",
    "    \n",
    "    dim = topright.shape[0]\n",
    "    \n",
    "    topright_half = topright * np.tri(dim).T\n",
    "    topright_half = topright_half.astype(dtype=np.float64)\n",
    "        \n",
    "    bottomleft_half = np.zeros_like(topright_half)\n",
    "    mask = topright_half != 0\n",
    "    bottomleft_half[mask] = 1 / topright_half[mask]\n",
    "    bottomleft_half = bottomleft_half.T\n",
    "    \n",
    "    result = np.eye(dim) + topright_half + bottomleft_half\n",
    "    return result\n",
    "\n",
    "crit_comp_matrix = build_pairwise_comparison_matrix(np.array([\n",
    "    [0, 3, 3,   1/3, 1/3],\n",
    "    [0, 0, 1/2, 1/5, 1/2],\n",
    "    [0, 0, 0,   1/3, 1/2],\n",
    "    [0, 0, 0,   0,   3  ],\n",
    "    [0, 0, 0,   0,   0  ],\n",
    "]))\n",
    "crit_comp_matrix"
   ],
   "id": "c3b3c23a8b03d024",
   "outputs": [
    {
     "data": {
      "text/plain": [
       "array([[1.        , 3.        , 3.        , 0.33333333, 0.33333333],\n",
       "       [0.33333333, 1.        , 0.5       , 0.2       , 0.5       ],\n",
       "       [0.33333333, 2.        , 1.        , 0.33333333, 0.5       ],\n",
       "       [3.        , 5.        , 3.        , 1.        , 3.        ],\n",
       "       [3.        , 2.        , 2.        , 0.33333333, 1.        ]])"
      ]
     },
     "execution_count": 107,
     "metadata": {},
     "output_type": "execute_result"
    }
   ],
   "execution_count": 107
  },
  {
   "metadata": {},
   "cell_type": "markdown",
   "source": "Проверим относительную согласованность матрицы:",
   "id": "1d4f22b6373eb547"
  },
  {
   "metadata": {
    "ExecuteTime": {
     "end_time": "2025-06-04T17:51:46.954197Z",
     "start_time": "2025-06-04T17:51:46.940174Z"
    }
   },
   "cell_type": "code",
   "source": [
    "def ahp_random_index(n: int = 5) -> float:\n",
    "    ri_table = [\n",
    "        0, 0, 0, 0.58, 0.9, 1.12, 1.24, 1.32, 1.41, 1.45, 1.49\n",
    "    ]\n",
    "    try:\n",
    "        return ri_table[n]\n",
    "    except IndexError:\n",
    "        raise ValueError(f\"AHP Random Index currently unavailable for matrix size {n}.\") \n",
    "\n",
    "ri = ahp_random_index(5)\n",
    "ri"
   ],
   "id": "3d3e6987d185dd52",
   "outputs": [
    {
     "data": {
      "text/plain": [
       "1.12"
      ]
     },
     "execution_count": 108,
     "metadata": {},
     "output_type": "execute_result"
    }
   ],
   "execution_count": 108
  },
  {
   "metadata": {
    "ExecuteTime": {
     "end_time": "2025-06-04T17:51:46.969334Z",
     "start_time": "2025-06-04T17:51:46.955221Z"
    }
   },
   "cell_type": "code",
   "source": [
    "def consistency_ratio(comparison_matrix: np.ndarray) -> float:\n",
    "    if (comparison_matrix.ndim != 2 or\n",
    "            comparison_matrix.shape[0] != comparison_matrix.shape[1]):\n",
    "        raise ValueError(\"The provided matrix should be a square matrix.\")\n",
    "    \n",
    "    dim = comparison_matrix.shape[0]\n",
    "    \n",
    "    eigvals = np.linalg.eig(comparison_matrix).eigenvalues\n",
    "    l_max = np.max(np.real(eigvals))\n",
    "    \n",
    "    ci = (l_max - dim) / (dim - 1)\n",
    "    ri = ahp_random_index(dim)\n",
    "    return ci / ri if ri > 0 else 0\n",
    "    \n",
    "cr = consistency_ratio(crit_comp_matrix)\n",
    "if cr > 0.1:\n",
    "    raise UserWarning(f\"Consistency ratio must not be greater than 0.1 (currently {cr}).\")\n",
    "cr"
   ],
   "id": "9313efc77f2c55cb",
   "outputs": [
    {
     "data": {
      "text/plain": [
       "np.float64(0.08236304922521218)"
      ]
     },
     "execution_count": 109,
     "metadata": {},
     "output_type": "execute_result"
    }
   ],
   "execution_count": 109
  },
  {
   "metadata": {},
   "cell_type": "markdown",
   "source": "Оценка вектора весов критериев:",
   "id": "df479c4c6520c499"
  },
  {
   "metadata": {
    "ExecuteTime": {
     "end_time": "2025-06-04T17:51:46.984358Z",
     "start_time": "2025-06-04T17:51:46.971335Z"
    }
   },
   "cell_type": "code",
   "source": [
    "def ahp_weights_eigen(matrix: np.ndarray) -> np.ndarray:\n",
    "    eigvals, eigvecs = np.linalg.eig(matrix)\n",
    "    max_index = np.argmax(np.real(eigvals))\n",
    "    principal_vector = np.real(eigvecs[:, max_index])\n",
    "    normalized_weights = principal_vector / principal_vector.sum()\n",
    "    return normalized_weights\n",
    "\n",
    "ahp_weights = ahp_weights_eigen(crit_comp_matrix)\n",
    "ahp_weights_eigen(crit_comp_matrix)"
   ],
   "id": "e8537d673e9284fb",
   "outputs": [
    {
     "data": {
      "text/plain": [
       "array([0.16992735, 0.07060938, 0.10403539, 0.42627555, 0.22915233])"
      ]
     },
     "execution_count": 110,
     "metadata": {},
     "output_type": "execute_result"
    }
   ],
   "execution_count": 110
  },
  {
   "metadata": {},
   "cell_type": "markdown",
   "source": "",
   "id": "be23c0fb5c3a365c"
  },
  {
   "metadata": {
    "ExecuteTime": {
     "end_time": "2025-06-04T17:51:46.999490Z",
     "start_time": "2025-06-04T17:51:46.986333Z"
    }
   },
   "cell_type": "code",
   "source": [
    "def ahp_weights_row_norm(matrix: np.ndarray) -> np.ndarray:\n",
    "    norm_matrix = matrix / matrix.sum(axis=0)\n",
    "    weights = norm_matrix.mean(axis=1)\n",
    "    return weights\n",
    "\n",
    "ahp_weights_row_norm(crit_comp_matrix)"
   ],
   "id": "1bff1307544ace09",
   "outputs": [
    {
     "data": {
      "text/plain": [
       "array([0.17820173, 0.0715384 , 0.10957054, 0.42175093, 0.21893839])"
      ]
     },
     "execution_count": 111,
     "metadata": {},
     "output_type": "execute_result"
    }
   ],
   "execution_count": 111
  },
  {
   "metadata": {},
   "cell_type": "markdown",
   "source": "",
   "id": "d0eb3456a82d7548"
  },
  {
   "metadata": {},
   "cell_type": "markdown",
   "source": "Сравнительная оценка альтернатив по каждому критерию",
   "id": "b1d5760c77338a97"
  },
  {
   "metadata": {
    "ExecuteTime": {
     "end_time": "2025-06-04T18:06:48.038783Z",
     "start_time": "2025-06-04T18:06:48.014338Z"
    }
   },
   "cell_type": "code",
   "source": [
    "criteriawise_alternative_comparison_matrices: dict[str, np.ndarray] = {\n",
    "    'Simplicity': \n",
    "        build_pairwise_comparison_matrix(np.array([\n",
    "            [0, 1/2, 2  , 3  , 1/5],\n",
    "            [0, 0  , 3  , 5  , 1/2],\n",
    "            [0, 0  , 0  , 2  , 1/5],\n",
    "            [0, 0  , 0  , 0  , 1/6],\n",
    "            [0, 0  , 0  , 0  , 0  ],\n",
    "        ])),\n",
    "    'Relevance':\n",
    "        build_pairwise_comparison_matrix(np.array([\n",
    "            [0, 3  , 2  , 1/2, 5  ],\n",
    "            [0, 0  , 1/2, 1/5, 2  ],\n",
    "            [0, 0  , 0  , 1/3, 3  ],\n",
    "            [0, 0  , 0  , 0  , 7  ],\n",
    "            [0, 0  , 0  , 0  , 0  ],\n",
    "        ])),\n",
    "    'Originality':\n",
    "        build_pairwise_comparison_matrix(np.array([\n",
    "            [0, 5  , 7  , 3  , 9  ],\n",
    "            [0, 0  , 3  , 1/3, 5  ],\n",
    "            [0, 0  , 0  , 1/5, 3  ],\n",
    "            [0, 0  , 0  , 0  , 7  ],\n",
    "            [0, 0  , 0  , 0  , 0  ],\n",
    "        ])),\n",
    "    'Education':\n",
    "        build_pairwise_comparison_matrix(np.array([\n",
    "            [0, 5  , 7  , 3  , 1/3],\n",
    "            [0, 0  , 3  , 1/3, 1/7],\n",
    "            [0, 0  , 0  , 1/5, 1/8],\n",
    "            [0, 0  , 0  , 0  , 1/5],\n",
    "            [0, 0  , 0  , 0  , 0  ],\n",
    "        ])),\n",
    "    'VR Potential':\n",
    "        build_pairwise_comparison_matrix(np.array([\n",
    "            [0, 7  , 3  , 9  , 5  ],\n",
    "            [0, 0  , 1/5, 3  , 1/3],\n",
    "            [0, 0  , 0  , 7  , 3  ],\n",
    "            [0, 0  , 0  , 0  , 1/5],\n",
    "            [0, 0  , 0  , 0  , 0  ],\n",
    "        ])),\n",
    "}\n",
    "\n",
    "for cm_name, cm in criteriawise_alternative_comparison_matrices.items():\n",
    "    cr = consistency_ratio(cm)\n",
    "    print(f\"{cm_name}: {consistency_ratio(cm)}\")\n",
    "    assert cr < 0.1, f'Consistency ratio for criterion {cm_name}: {cr} >= 0.1'"
   ],
   "id": "92e19eedaa5f0dff",
   "outputs": [
    {
     "name": "stdout",
     "output_type": "stream",
     "text": [
      "Simplicity: 0.019546058035832932\n",
      "Relevance: 0.006254980971022648\n",
      "Originality: 0.05300786863556045\n",
      "Education: 0.05946284820946398\n",
      "VR Potential: 0.05300786863555986\n"
     ]
    }
   ],
   "execution_count": 147
  },
  {
   "metadata": {
    "ExecuteTime": {
     "end_time": "2025-06-04T18:06:54.699578Z",
     "start_time": "2025-06-04T18:06:54.690400Z"
    }
   },
   "cell_type": "code",
   "source": [
    "local_weights = []\n",
    "\n",
    "for crit in criteria_names:\n",
    "    comp_matrix = criteriawise_alternative_comparison_matrices[crit]\n",
    "    local_weight_vector = ahp_weights_eigen(comp_matrix)\n",
    "    local_weights.append(local_weight_vector)\n",
    "    \n",
    "overall_alternative_to_criteria_matrix = np.array(local_weights)\n",
    "overall_alternative_to_criteria_matrix"
   ],
   "id": "738285abc68f8f20",
   "outputs": [
    {
     "data": {
      "text/plain": [
       "array([[0.13529807, 0.25246326, 0.08630608, 0.0532177 , 0.47271489],\n",
       "       [0.26192318, 0.08867844, 0.1523594 , 0.44464814, 0.05239084],\n",
       "       [0.51281281, 0.12897642, 0.06337653, 0.26149906, 0.03333518],\n",
       "       [0.26325206, 0.06397846, 0.03479308, 0.13013783, 0.50783857],\n",
       "       [0.51281281, 0.06337653, 0.26149906, 0.03333518, 0.12897642]])"
      ]
     },
     "execution_count": 148,
     "metadata": {},
     "output_type": "execute_result"
    }
   ],
   "execution_count": 148
  },
  {
   "metadata": {
    "ExecuteTime": {
     "end_time": "2025-06-04T20:00:26.846048Z",
     "start_time": "2025-06-04T20:00:26.826438Z"
    }
   },
   "cell_type": "code",
   "source": [
    "# Multiply each local row by its criterion weight\n",
    "global_scores = (ahp_weights[:, None] * overall_alternative_to_criteria_matrix).sum(axis=0)\n",
    "global_scores"
   ],
   "id": "5a6f64b14b50f541",
   "outputs": [
    {
     "data": {
      "text/plain": [
       "array([0.32456593, 0.10437539, 0.10677173, 0.13075804, 0.33352892])"
      ]
     },
     "execution_count": 154,
     "metadata": {},
     "output_type": "execute_result"
    }
   ],
   "execution_count": 154
  },
  {
   "metadata": {
    "ExecuteTime": {
     "end_time": "2025-06-04T20:00:31.001504Z",
     "start_time": "2025-06-04T20:00:30.994054Z"
    }
   },
   "cell_type": "code",
   "source": [
    "# Display result\n",
    "for alt, score in sorted(\n",
    "        zip(alternative_names, global_scores),\n",
    "        key=lambda k: k[1],\n",
    "        reverse=True\n",
    "):\n",
    "    print(f\"{alt:<20}: {score:.4f}\")\n",
    "    \n",
    "assert np.abs(global_scores.sum() - 1) < 1e-6"
   ],
   "id": "dae39a64f72d036d",
   "outputs": [
    {
     "name": "stdout",
     "output_type": "stream",
     "text": [
      "Art Gallery         : 0.3335\n",
      "Space Quest         : 0.3246\n",
      "Psychological Horror: 0.1308\n",
      "Backrooms Horror    : 0.1068\n",
      "Student Simulator   : 0.1044\n"
     ]
    }
   ],
   "execution_count": 155
  }
 ],
 "metadata": {
  "kernelspec": {
   "display_name": "Python 3",
   "language": "python",
   "name": "python3"
  },
  "language_info": {
   "codemirror_mode": {
    "name": "ipython",
    "version": 2
   },
   "file_extension": ".py",
   "mimetype": "text/x-python",
   "name": "python",
   "nbconvert_exporter": "python",
   "pygments_lexer": "ipython2",
   "version": "2.7.6"
  }
 },
 "nbformat": 4,
 "nbformat_minor": 5
}
