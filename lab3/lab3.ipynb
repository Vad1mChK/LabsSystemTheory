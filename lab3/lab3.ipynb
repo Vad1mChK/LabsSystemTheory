{
 "nbformat": 4,
 "nbformat_minor": 0,
 "metadata": {
  "colab": {
   "provenance": []
  },
  "kernelspec": {
   "name": "python3",
   "display_name": "Python 3 (ipykernel)",
   "language": "python"
  },
  "language_info": {
   "name": "python"
  }
 },
 "cells": [
  {
   "cell_type": "markdown",
   "source": [
    "## Сети Маркова\n",
    "\n",
    "Сети Маркова являются одним из примеров стохастической модели, т.е. модели, в которой учитываются случайные факторы.<br/>\n",
    "Простая цепь Маркова с дискретным временем представляет собой последовательность дискретных случайных величин {*Xn*}, переходящих с определенными вероятностями из одного состояния в другое. Эти переходы удовлетворяют *свойству Маркова*, которое заключается в том, что вероятность перехода в какое-либо конкретное состояние зависит исключительно от текущего состояния и не зависит от всех предыдущих состояний, т.е.\n",
    "\n",
    "$$\n",
    "\\mathbb{P}\\left(\n",
    "X_{n+1} = i_{n+1} | X_n = i_n, X_{n-1} = i_{n-1},\\dots, X_0=i_0\n",
    "\\right)\n",
    "=\n",
    "\\mathbb{P}\\left(\n",
    "X_{n+1} = i_{n+1} | X_n = i_n\n",
    "\\right)\n",
    "$$\n",
    "\n",
    "Область значений случайных величин $X_n$ называется пространством состояний цепи, $n$ — номер шага.\n",
    "\n",
    "Элементы простанства состояний могут быть любыми: буквы, цифры, погодные условия и др. Пространство состояний марковской цепи не имеет каких-либо ограничений и скорее относится к процессу в произвольном пространстве состояний. Однако во многих приложениях цепей Маркова используются конечные или счетные пространства состояний, поскольку они имеют более простой статистический анализ."
   ],
   "metadata": {
    "id": "s606aOXwGbXc"
   }
  },
  {
   "cell_type": "markdown",
   "source": [
    "Марковские процессы делятся на два вида:\n",
    "1. Дискретные цепи Маркова, в которых система меняет свое состояние в определенные моменты (такты) времени.\n",
    "2. Непрерывные цепи Маркова, где система меняет свое состояние в произвольный\n",
    "момент времени."
   ],
   "metadata": {
    "id": "u6WhwzyzuzhV"
   }
  },
  {
   "cell_type": "markdown",
   "source": "Модель Марковского процесса представляет собой граф, в котором узлы обозначают состояние моделируемого объекта, а дуги – вероятность перехода из одного состояния в другое. Для описания цепи Маркова также используется матрица вероятноятей переходов.",
   "metadata": {
    "id": "11sU4suuSu53"
   }
  },
  {
   "cell_type": "markdown",
   "source": [
    "Матрица переходных вероятностей на $n$-ом шаге представляет собой матрицу *P*(*n*) размерностью *N*x*N* (*N* - количество возможных состояний системы), каждый элемент которой *Pij*(*n*) равен вероятности перехода из состояния *i* в состояние *j* на *n*-ом шаге:<br/>\n",
    "\n",
    "$$\n",
    "P_{ij}(n) \\equiv \\mathbb{P}\\left(\n",
    "    X_{n+1} = j | X_n = i\n",
    "\\right)\n",
    "$$\n",
    "\n",
    "Вектор $p = (p_1, p_2, \\dots)$,\n",
    "где $p_i \\equiv \\mathbb{P}(X_0 = i)$,\n",
    "называется **начальным распределением** цепи Маркова.\n",
    "\n",
    "Матрица переходных вероятностей является стохастической справа, то есть<\n",
    "$$\n",
    "\\sum_j P_{ij}(n) = 1, \\forall n\\in \\mathbb{N}.\n",
    "$$\n",
    "Цепь Маркова называется **однородной**, если условная вероятность перехода из состояния в состояние не зависит от номера шага. В противном случае цепь Маркова называется неоднородной. В дальнейшем будем предполагать, что имеем дело с однородными цепями Маркова.<\n",
    "\n",
    "Таким образом, модель характеризуется пространством состояний, матрицей переходов, описывающей вероятности конкретных переходов, и начальным состоянием в пространстве состояний."
   ],
   "metadata": {
    "id": "-zQSyJv_J90e"
   }
  },
  {
   "cell_type": "markdown",
   "source": [
    "\n",
    "### Виды сетей Маркова\n",
    "**Разложимая цепь** содержит невозвратные (поглощающие) состояния (множества\n",
    "состояний). Состояние называется **поглощающим**, если выйти из этого состояния невозможно, из таких вершин не выходит ни одна дуга. В установившемся режиме\n",
    "вероятность пребывания в таком состоянии равна 1. Необходимым условием того, что\n",
    "состояние *i* является поглощающим, является равенство *pᵢᵢ*=1.<br/>\n",
    "Цепь Маркова называется **неприводимой** (**неразложимой**), если из любого состояния можно попасть в любое другое состояние. Другими словами, цепь Маркова неприводима, если между любыми двумя состояниями существует цепочка шагов, имеющая положительную вероятность.\n",
    "**Неразложимая цепь** не содержит поглощающих состояний или поглощающих\n",
    "подмножеств узлов. Такие цепи описываются сильно связным графом.<br/>\n",
    "Состояние цепи Маркова является **периодическим**, если цепь может вернуться в это состояние только за число шагов, кратное некоторому целому числу больше 1.\n",
    "**Периодической цепью** называется цепь, последовательность смены состояний\n",
    "которой является периодической. В случае периодической цепи все состояний имеют\n",
    "один и тот же период.<br/>\n",
    "**Эргодической** называется неразложимая и нециклическая марковская сеть. Для такой сети можно определить стационарные (финальные) вероятности, т.е. вероятности событий при времени, стремящемся к бесконечности (или числе шагов моделирования, стремящемся к бесконечности). Вероятности этих состояний не зависят от вероятностей системы в начальный момент."
   ],
   "metadata": {
    "id": "66JsEeX_o_4p"
   }
  },
  {
   "cell_type": "markdown",
   "source": [
    "### Стационарное распределение\n",
    "Стационарное распределение — это доля времени, которую система проводит в каждом состоянии, когда число шагов моделирования стремится к бесконечности. Если цепь имеет N состояний, стационарное распределение представляет собой вектор размерности N, сумма значений которого равна 1.<br/>\n",
    "Матрица переходных вероятностей за *n* шагов однородной цепи Маркова есть *n*-я степень матрицы переходных вероятностей за 1 шаг. Отсюда\n",
    "$$\n",
    "\\mathbb{P}(X_n = i_n) = \\left((P^T)^n p\\right)_{i_n},\n",
    "$$\n",
    "𝐩 - начальное распределение.\n",
    "Итерационный подход к вычислению стационарного распределения представляет собой последовательность вычислений по формуле (шаг моделирования):\n",
    "$$\n",
    "\\pi^{(n)} = \\pi^{(n-1)}P,\n",
    "$$\n",
    "где *n* - шаг моделирования, π - стационарное распределение."
   ],
   "metadata": {
    "id": "ylhhYdoTcoFG"
   }
  },
  {
   "cell_type": "markdown",
   "source": [
    "\n",
    "\n",
    "### Пример\n",
    "Депрессивный студент Арсентий может в любой час находиться в одном из 4 состояний: \n",
    "- сон (Sleep, S),\n",
    "- учёба (sTudy, T),\n",
    "- прокрастинация (Procrastinate, P),\n",
    "- приём пищи (Eat, E).\n",
    "\n",
    "По наблюдениям было установлено: если Арсентий спит, с вероятностью 60% в следующий час он продолжит спать. Ему трудно заставить себя проснуться, поэтому с вероятностью 10% он будет учиться, с вероятностью 10% --- есть, с вероятностью 20% --- прокрастинировать.\n",
    "\n",
    "$$\n",
    "P = \n",
    "\\left(\\begin{matrix}\n",
    "    0.6 & 0.1 & 0.1 & 0.2 \\\\\n",
    "    0.2 & 0.6 & 0.1 & 0.1 \\\\\n",
    "    0.3 & 0.1 & 0.2 & 0.4 \\\\\n",
    "    0.1 & 0.2 & 0.2 & 0.5\n",
    "\\end{matrix}\\right)\n",
    "$$\n"
   ],
   "metadata": {
    "id": "JhRqtjltq9sP"
   }
  },
  {
   "metadata": {},
   "cell_type": "code",
   "source": [
    "import numpy as np\n",
    "from typing import Callable\n",
    "\n",
    "prob_matrix = np.array([\n",
    "    [0.6, 0.1, 0.1, 0.2],\n",
    "    [0.2, 0.6, 0.1, 0.1],\n",
    "    [0.3, 0.1, 0.2, 0.4],\n",
    "    [0.1, 0.2, 0.2, 0.5]\n",
    "])\n",
    "\n",
    "state_names = ['Sleep', 'sTudy', 'Eat', 'Procrastinate']"
   ],
   "outputs": [],
   "execution_count": null
  },
  {
   "metadata": {},
   "cell_type": "markdown",
   "source": "Возьмём, например, следующие начальные векторы:"
  },
  {
   "metadata": {},
   "cell_type": "code",
   "source": [
    "vec_1_start = np.array([1, 0, 0, 0])  # Arsentiy is sleeping\n",
    "vec_2_start = np.array([0, 1, 0, 0])  # Arsentiy is studying\n",
    "vec_3_start = np.array([.25, .25, .25, .25])  # Arsentiy can be in any state with equal probability\n",
    "\n",
    "vec_1 = vec_1_start\n",
    "vec_2 = vec_2_start\n",
    "vec_3 = vec_3_start"
   ],
   "outputs": [],
   "execution_count": null
  },
  {
   "metadata": {},
   "cell_type": "markdown",
   "source": "Рассчитаем конечные векторы (так, чтобы погрешность для всех значений не превышала $\\varepsilon = 10^{-10}$:"
  },
  {
   "metadata": {},
   "cell_type": "code",
   "source": [
    "epsilon = 1e-10\n",
    "\n",
    "def compute_steady_state( \n",
    "        vec: np.ndarray,\n",
    "        matrix: np.ndarray,\n",
    "        print_iterations: bool = False,\n",
    "        precision: float = epsilon,\n",
    "        max_iterations: int = None,\n",
    "        vector_list_adder: Callable[[np.ndarray], None] = None,\n",
    "        stddev_list_adder: Callable[[float], None] = None,\n",
    "):\n",
    "    current_vec = vec\n",
    "    iteration = 0\n",
    "\n",
    "    while True:\n",
    "        next_vec = current_vec @ matrix\n",
    "        diff = np.abs(next_vec - current_vec)\n",
    "        max_diff = np.max(diff)\n",
    "\n",
    "        # Calculating standard deviation of difference\n",
    "        stddev = np.sqrt(np.mean(diff**2))\n",
    "\n",
    "        # Optional data capturing\n",
    "        if vector_list_adder is not None:\n",
    "            vector_list_adder(next_vec)\n",
    "\n",
    "        if stddev_list_adder is not None:\n",
    "            stddev_list_adder(stddev)\n",
    "\n",
    "        if print_iterations:\n",
    "            print(f\"Iteration {iteration}: vector={next_vec}, max_diff={max_diff}, stddev={stddev}\")\n",
    "\n",
    "        # Stopping condition based on precision\n",
    "        if max_diff < precision:\n",
    "            break\n",
    "\n",
    "        # Optional stopping condition based on max iterations\n",
    "        iteration += 1\n",
    "        if max_iterations is not None and iteration >= max_iterations:\n",
    "            print(\"Reached maximum iterations.\")\n",
    "            break\n",
    "\n",
    "        current_vec = next_vec\n",
    "\n",
    "    return next_vec"
   ],
   "outputs": [],
   "execution_count": null
  },
  {
   "metadata": {},
   "cell_type": "code",
   "source": [
    "vec_1_records = [vec_1_start,]\n",
    "vec_2_records = [vec_2_start,]\n",
    "vec_3_records = [vec_3_start,]\n",
    "vec_1_stddev = []\n",
    "vec_2_stddev = []\n",
    "vec_3_stddev = []\n",
    "\n",
    "vec_1_steady = compute_steady_state(\n",
    "    vec_1,\n",
    "    prob_matrix,\n",
    "    vector_list_adder=vec_1_records.append,\n",
    "    stddev_list_adder=vec_1_stddev.append,\n",
    ")\n",
    "\n",
    "vec_2_steady = compute_steady_state(\n",
    "    vec_2,\n",
    "    prob_matrix,\n",
    "    vector_list_adder=vec_2_records.append,\n",
    "    stddev_list_adder=vec_2_stddev.append,\n",
    ")\n",
    "\n",
    "vec_3_steady = compute_steady_state(\n",
    "    vec_3,\n",
    "    prob_matrix,\n",
    "    vector_list_adder=vec_3_records.append,\n",
    "    stddev_list_adder=vec_3_stddev.append,\n",
    ")"
   ],
   "outputs": [],
   "execution_count": null
  },
  {
   "metadata": {},
   "cell_type": "markdown",
   "source": "Проверим значения конечных векторов:"
  },
  {
   "metadata": {},
   "cell_type": "code",
   "source": [
    "print(vec_1_steady)\n",
    "print(vec_2_steady)\n",
    "print(vec_3_steady)"
   ],
   "outputs": [],
   "execution_count": null
  },
  {
   "metadata": {},
   "cell_type": "code",
   "source": [
    "print(np.max(np.abs(vec_1_steady - vec_2_steady)))\n",
    "print(np.max(np.abs(vec_1_steady - vec_3_steady)))\n",
    "print(np.max(np.abs(vec_2_steady - vec_3_steady)))"
   ],
   "outputs": [],
   "execution_count": null
  },
  {
   "metadata": {},
   "cell_type": "markdown",
   "source": "Проверим также, что $\\sum\\limits_{j}\\pi_j = 1$:"
  },
  {
   "metadata": {},
   "cell_type": "code",
   "source": [
    "print(np.sum(vec_1_steady))\n",
    "print(np.sum(vec_2_steady))\n",
    "print(np.sum(vec_3_steady))"
   ],
   "outputs": [],
   "execution_count": null
  },
  {
   "metadata": {},
   "cell_type": "markdown",
   "source": "Построим графики изменения компонентов векторов и стандартного отклонения:"
  },
  {
   "metadata": {},
   "cell_type": "code",
   "source": [
    "import matplotlib.pyplot as plt\n",
    "\n",
    "vec_1_array = np.array(vec_1_records)\n",
    "vec_2_array = np.array(vec_2_records)\n",
    "vec_3_array = np.array(vec_3_records)\n",
    "\n",
    "state_names = ['Sleep', 'sTudy', 'Eat', 'Procrastinate']\n",
    "\n",
    "fig, axs = plt.subplots(3, 2, figsize=(12, 12))\n",
    "fig.suptitle('Vector components and STD change', fontsize=16)\n",
    "\n",
    "for i, name in enumerate(state_names):\n",
    "    axs[0, 0].plot(vec_1_array[:, i], label=name)\n",
    "axs[0, 0].set_title('Vector 1 components')\n",
    "axs[0, 0].legend()\n",
    "axs[0, 0].grid(True)\n",
    "\n",
    "axs[0, 1].plot(vec_1_stddev, label=\"stddev\", color=\"black\")\n",
    "axs[0, 1].set_title('Vector 1 standard deviation')\n",
    "axs[0, 1].grid(True)\n",
    "\n",
    "for i, name in enumerate(state_names):\n",
    "    axs[1, 0].plot(vec_2_array[:, i], label=name)\n",
    "axs[1, 0].set_title('Vector 2 components')\n",
    "axs[1, 0].legend()\n",
    "axs[1, 0].grid(True)\n",
    "\n",
    "axs[1, 1].plot(vec_2_stddev, label=\"stddev\", color=\"black\")\n",
    "axs[1, 1].set_title('Vector 2 standard deviation')\n",
    "axs[1, 1].grid(True)\n",
    "\n",
    "for i, name in enumerate(state_names):\n",
    "    axs[2, 0].plot(vec_3_array[:, i], label=name)\n",
    "axs[2, 0].set_title('Vector 3 components')\n",
    "axs[2, 0].legend()\n",
    "axs[2, 0].grid(True)\n",
    "\n",
    "axs[2, 1].plot(vec_3_stddev, label=\"stddev\", color=\"black\")\n",
    "axs[2, 1].set_title('Vector 3 standard deviation')\n",
    "axs[2, 1].grid(True)\n",
    "\n",
    "plt.tight_layout()\n",
    "plt.show()\n"
   ],
   "outputs": [],
   "execution_count": null
  },
  {
   "metadata": {},
   "cell_type": "markdown",
   "source": "Аналитическое решение:"
  },
  {
   "metadata": {},
   "cell_type": "code",
   "source": [
    "prob_t = prob_matrix.T\n",
    "n = prob_t.shape[0]\n",
    "\n",
    "a = prob_t - np.eye(n)\n",
    "a = np.vstack([a, np.ones(n)])\n",
    "b = np.zeros(n + 1)\n",
    "b[-1] = 1\n",
    "\n",
    "pi_analytical = np.linalg.lstsq(a, b, rcond=None)[0]\n",
    "pi_analytical"
   ],
   "outputs": [],
   "execution_count": null
  },
  {
   "metadata": {},
   "cell_type": "code",
   "source": "np.max(np.abs(pi_analytical - vec_1_steady))",
   "outputs": [],
   "execution_count": null
  }
 ]
}
