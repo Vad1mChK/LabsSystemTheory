{
 "nbformat": 4,
 "nbformat_minor": 0,
 "metadata": {
  "colab": {
   "provenance": []
  },
  "kernelspec": {
   "name": "python3",
   "display_name": "Python 3 (ipykernel)",
   "language": "python"
  },
  "language_info": {
   "name": "python"
  }
 },
 "cells": [
  {
   "cell_type": "markdown",
   "source": [
    "Модифицированная версия [блокнота](https://colab.research.google.com/drive/1_llVQyDyvaHdskkSgKBJCkLLovNyFg6-?ouid=116788493095687065575&usp=classroom_web&authuser=0), сделанная в рамках лаб. 1 по Теории систем\n",
    "\n",
    "Выполнил: студент Чайкин Вадим Константинович, P3324"
   ],
   "metadata": {
    "id": "woVlds4Lhp8V"
   }
  },
  {
   "cell_type": "markdown",
   "source": [],
   "metadata": {
    "id": "4-pWGmnMh_qN"
   }
  },
  {
   "cell_type": "markdown",
   "source": [
    "[Реализация конечных автоматов на python](https://github.com/pytransitions/transitions)"
   ],
   "metadata": {
    "id": "ITf-CYc6MinW"
   }
  },
  {
   "cell_type": "code",
   "source": [
    "!pip install transitions\n",
    "import transitions\n",
    "\n",
    "from transitions import Machine, MachineError\n",
    "\n",
    "# На этот объект будем вешать состояния\n",
    "class Process(object):\n",
    "    pass\n",
    "\n",
    "lump = Process()\n",
    "\n",
    "# Полный список состояний\n",
    "states=['New', 'Runnable', 'On CPU', 'Blocked', 'Exit']\n",
    "\n",
    "# Добавляем таблицу переходов — из какое в какое состояние мы можем попасть\n",
    "transitions = [\n",
    "    { 'trigger': 'admit', 'source': 'New', 'dest': 'Runnable' },\n",
    "    { 'trigger': 'dispatch', 'source': 'Runnable', 'dest': 'On CPU' },\n",
    "    { 'trigger': 'timeout', 'source': 'On CPU', 'dest': 'Runnable' },\n",
    "    { 'trigger': 'event_wait', 'source': 'On CPU', 'dest': 'Blocked' },\n",
    "    { 'trigger': 'event_occurs', 'source': 'Blocked', 'dest': 'Runnable' },\n",
    "    { 'trigger': 'release', 'source': 'On CPU', 'dest': 'Exit' },\n",
    "]\n",
    "\n",
    "    # trigger – это некое действие, которое может привести к смене состояния объекта,\n",
    "    # source – исходное состояние объекта,\n",
    "    # dest – целевое состояние объекта.\n",
    "\n",
    "\n",
    "# Инициализация машины\n",
    "machine = Machine(lump, states=states, transitions=transitions, initial='New')\n",
    "\n",
    "# Проверяем начальное состояние\n",
    "assert lump.state == 'New',\\\n",
    "  f'Incorrect state: initial state should be New, actually {lump.state}'\n",
    "\n",
    "# И пробуем изменить состояние триггерами перехода\n",
    "lump.admit()\n",
    "assert lump.state == 'Runnable',\\\n",
    "  f'Incorrect state: state after admit should be Runnable, actually {lump.state}'\n",
    "\n",
    "lump.trigger('dispatch')\n",
    "assert lump.state == 'On CPU',\\\n",
    "  f'Incorrect state: state after admit should be On CPU, actually {lump.state}'"
   ],
   "metadata": {
    "colab": {
     "base_uri": "https://localhost:8080/"
    },
    "id": "QCOVcWJAMh73",
    "outputId": "a6ad99d1-7b68-4c0d-d113-5f1c4f201b74",
    "ExecuteTime": {
     "end_time": "2025-02-10T15:56:30.583243Z",
     "start_time": "2025-02-10T15:56:29.106458Z"
    }
   },
   "outputs": [
    {
     "name": "stdout",
     "output_type": "stream",
     "text": [
      "Requirement already satisfied: transitions in c:\\users\\vadim\\pycharmprojects\\labssystemtheory\\.venv\\lib\\site-packages (0.9.2)\n",
      "Requirement already satisfied: six in c:\\users\\vadim\\pycharmprojects\\labssystemtheory\\.venv\\lib\\site-packages (from transitions) (1.17.0)\n"
     ]
    },
    {
     "name": "stderr",
     "output_type": "stream",
     "text": [
      "\n",
      "[notice] A new release of pip is available: 23.2.1 -> 25.0.1\n",
      "[notice] To update, run: python.exe -m pip install --upgrade pip\n"
     ]
    }
   ],
   "execution_count": 5
  },
  {
   "cell_type": "code",
   "source": [
    "machine = Machine(lump, states=states, transitions=transitions, initial='New')\n",
    "try:\n",
    "    print(lump.state)\n",
    "\n",
    "    lump.admit()\n",
    "    print(lump.state)\n",
    "\n",
    "    lump.dispatch()\n",
    "    print(lump.state)\n",
    "\n",
    "    lump.event_wait()\n",
    "    print(lump.state)\n",
    "\n",
    "    lump.event_occurs()\n",
    "    print(lump.state)\n",
    "\n",
    "    lump.dispatch()\n",
    "    print(lump.state)\n",
    "\n",
    "    lump.release()\n",
    "    print(lump.state)\n",
    "except MachineError as error:\n",
    "    print(error)"
   ],
   "metadata": {
    "colab": {
     "base_uri": "https://localhost:8080/"
    },
    "id": "zAVzhfSIuOA4",
    "outputId": "a45d1c9e-5591-4290-f765-15cc98092cf7",
    "ExecuteTime": {
     "end_time": "2025-02-10T15:56:33.093967Z",
     "start_time": "2025-02-10T15:56:33.072913Z"
    }
   },
   "outputs": [
    {
     "name": "stdout",
     "output_type": "stream",
     "text": [
      "New\n",
      "Runnable\n",
      "On CPU\n",
      "Blocked\n",
      "Runnable\n",
      "On CPU\n",
      "Exit\n"
     ]
    }
   ],
   "execution_count": 6
  },
  {
   "metadata": {},
   "cell_type": "code",
   "outputs": [],
   "execution_count": null,
   "source": ""
  }
 ]
}
